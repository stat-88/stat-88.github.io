{
 "cells": [
  {
   "cell_type": "code",
   "execution_count": null,
   "metadata": {},
   "outputs": [],
   "source": [
    "# These are libraries we usually use for computations.\n",
    "from datascience import *\n",
    "from scipy import stats\n",
    "from scipy import special\n",
    "import numpy as np"
   ]
  },
  {
   "cell_type": "code",
   "execution_count": null,
   "metadata": {
    "scrolled": true
   },
   "outputs": [],
   "source": [
    "# This is how you get pmf of a binomial distribution.\n",
    "# The three parameters are (k, n, p), respectively.\n",
    "stats.binom.pmf(2, 5, 1/6)"
   ]
  },
  {
   "cell_type": "code",
   "execution_count": null,
   "metadata": {},
   "outputs": [],
   "source": [
    "# in case you forget which parameter is which ... at least don't forget how to look it up!\n",
    "#?stats.binom\n",
    "?stats"
   ]
  },
  {
   "cell_type": "code",
   "execution_count": null,
   "metadata": {},
   "outputs": [],
   "source": [
    "# A better way to do the same thing is to save it as a variable\n",
    "# - and say what this means in comments in case you want to read it later.\n",
    "\n",
    "# When programming, '=' is used to give the value of the right expression to the left variable.\n",
    "# P(exactly 2 sixes in 5 rolls)\n",
    "p1 = stats.binom.pmf(2, 5, 1/6)\n",
    "\n",
    "# Print the result just for your convenience.\n",
    "p1"
   ]
  },
  {
   "cell_type": "code",
   "execution_count": null,
   "metadata": {},
   "outputs": [],
   "source": [
    "# Now, you may recycle the variable across different cells.\n",
    "\n",
    "# round to the fourth decimal\n",
    "round(p1, 4)\n",
    "\n",
    "# Note: this just looks shorter, will not make the variable less precise since we did not change its real value."
   ]
  },
  {
   "cell_type": "code",
   "execution_count": null,
   "metadata": {},
   "outputs": [],
   "source": [
    "# You may recycle the variable more than once.\n",
    "# Use different variable names, unless you are know exactly what you are doing!\n",
    "\n",
    "# pow(x, k) = x^k is the k-th power of x in python\n",
    "# P(*That* happens five times)\n",
    "p2 = pow(p1, 5)\n",
    "\n",
    "p2"
   ]
  },
  {
   "cell_type": "code",
   "execution_count": null,
   "metadata": {},
   "outputs": [],
   "source": [
    "# Or ...\n",
    "p2_alt = p1 ** 5\n",
    "\n",
    "p2_alt"
   ]
  },
  {
   "cell_type": "code",
   "execution_count": null,
   "metadata": {},
   "outputs": [],
   "source": [
    "# Consider the number of aces in a 5-card poker hand.\n",
    "\n",
    "# P(one or two Aces)\n",
    "p3 = stats.hypergeom.pmf(1, 52, 4, 5) + stats.hypergeom.pmf(2, 52, 4, 5)\n",
    "\n",
    "p3"
   ]
  },
  {
   "cell_type": "code",
   "execution_count": null,
   "metadata": {},
   "outputs": [],
   "source": [
    "# Or ...\n",
    "p3_1 = stats.hypergeom.pmf(1, 52, 4, 5)\n",
    "p3_2 = stats.hypergeom.pmf(2, 52, 4, 5)\n",
    "p3_alt = p3_1 + p3_2\n",
    "\n",
    "round(p3_alt, 4)"
   ]
  },
  {
   "cell_type": "code",
   "execution_count": null,
   "metadata": {},
   "outputs": [],
   "source": [
    "# 'np' is short for numpy as long as we did 'import numpy as np' when importing.\n",
    "\n",
    "# Distribution of number of Aces\n",
    "a1 = stats.hypergeom.pmf(np.arange(5), 52, 4, 5)\n",
    "\n",
    "a1"
   ]
  },
  {
   "cell_type": "code",
   "execution_count": null,
   "metadata": {},
   "outputs": [],
   "source": [
    "# np.arange(n) returns an array from 0 to n-1.\n",
    "np.arange(5)"
   ]
  },
  {
   "cell_type": "code",
   "execution_count": null,
   "metadata": {},
   "outputs": [],
   "source": [
    "# It may also take two parameters n1 < n2, which returns an array from n1 to n2-1\n",
    "np.arange(2, 5)"
   ]
  },
  {
   "cell_type": "code",
   "execution_count": null,
   "metadata": {},
   "outputs": [],
   "source": [
    "# It is okay if you put an array into pmf function.\n",
    "# However, this is not the case if you want to use round function (and many others).\n",
    "round(a1, 4)\n",
    "\n",
    "# Try before you believe your code works!"
   ]
  },
  {
   "cell_type": "code",
   "execution_count": null,
   "metadata": {},
   "outputs": [],
   "source": [
    "# in case you want to draw a graph, use this\n",
    "import matplotlib.pyplot as plt\n",
    "# if using a Jupyter notebook, includue:\n",
    "%matplotlib inline"
   ]
  },
  {
   "cell_type": "code",
   "execution_count": null,
   "metadata": {},
   "outputs": [],
   "source": [
    "# prepare data\n",
    "x = np.arange(5)\n",
    "y = stats.hypergeom.pmf(x, 52, 4, 5)\n",
    "\n",
    "# plot\n",
    "#plt.plot(x,y)\n",
    "\n",
    "# try bar plot!\n",
    "plt.bar(x, y)"
   ]
  },
  {
   "cell_type": "code",
   "execution_count": null,
   "metadata": {},
   "outputs": [],
   "source": [
    "z = stats.hypergeom.cdf(x, 52, 4, 5)\n",
    "\n",
    "plt.bar(x, z)"
   ]
  },
  {
   "cell_type": "markdown",
   "metadata": {},
   "source": [
    "- Example: Advisor meetings\n",
    "\n",
    "An advisor at a university provides guidance to 10 students. Each student has to meet with her once a month during the school year which consists of nine months.\n",
    "\n",
    "So each month the advisor schedules one day of meetings. Each student has to sign up for one meeting that day. Students have the choice of meeting her in the morning or in the afternoon.\n",
    "\n",
    "Assume that every month each student, independently of other students and other months, chooses to meet in the afternoon with probability 0.75.\n",
    "\n",
    "What is the chance that she has both morning and afternoon meetings in all of the months except one?"
   ]
  },
  {
   "cell_type": "code",
   "execution_count": null,
   "metadata": {},
   "outputs": [],
   "source": [
    "# preparation\n",
    "\n",
    "num_student = 10\n",
    "\n",
    "num_month = 9\n",
    "\n",
    "prob_afternoon = 0.75"
   ]
  },
  {
   "cell_type": "code",
   "execution_count": null,
   "metadata": {},
   "outputs": [],
   "source": [
    "# 1.1 calculate for one month\n",
    "\n",
    "prob_morning = 1 - prob_afternoon\n",
    "\n",
    "prob_single_month = 1 - (pow(prob_morning, num_student) + pow(prob_afternoon, num_student))\n",
    "\n",
    "round(prob_single_month, 4)"
   ]
  },
  {
   "cell_type": "code",
   "execution_count": null,
   "metadata": {},
   "outputs": [],
   "source": [
    "# 1.2 calculate a binom distr\n",
    "\n",
    "# Binom (n = num_month, p = prob_single_month)\n",
    "\n",
    "ans = stats.binom.pmf(8, num_month, prob_single_month)\n",
    "\n",
    "round(ans, 4)"
   ]
  }
 ],
 "metadata": {
  "kernelspec": {
   "display_name": "Python 3",
   "language": "python",
   "name": "python3"
  },
  "language_info": {
   "codemirror_mode": {
    "name": "ipython",
    "version": 3
   },
   "file_extension": ".py",
   "mimetype": "text/x-python",
   "name": "python",
   "nbconvert_exporter": "python",
   "pygments_lexer": "ipython3",
   "version": "3.8.8"
  }
 },
 "nbformat": 4,
 "nbformat_minor": 4
}
